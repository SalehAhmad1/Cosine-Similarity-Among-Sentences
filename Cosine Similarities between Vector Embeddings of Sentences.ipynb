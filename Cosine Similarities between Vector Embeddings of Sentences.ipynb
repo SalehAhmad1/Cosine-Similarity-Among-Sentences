{
 "cells": [
  {
   "cell_type": "code",
   "execution_count": 9,
   "id": "6f8e6454",
   "metadata": {},
   "outputs": [],
   "source": [
    "import numpy as np\n",
    "import transformers\n",
    "from transformers import AutoTokenizer, AutoModel\n",
    "import torch"
   ]
  },
  {
   "cell_type": "code",
   "execution_count": 10,
   "id": "864264bb",
   "metadata": {},
   "outputs": [],
   "source": [
    "tokenizer = AutoTokenizer.from_pretrained('sentence-transformers/all-MiniLM-L6-v2')"
   ]
  },
  {
   "cell_type": "code",
   "execution_count": null,
   "id": "3d2802e7",
   "metadata": {},
   "outputs": [],
   "source": [
    "Sentence1 = input(\"Enter the first sentence: \")\n",
    "Sentence2 = input(\"Enter the second sentence: \")\n",
    "\n",
    "print('Sentence 1: ', Sentence1)\n",
    "print('Sentence 2: ', Sentence2)"
   ]
  },
  {
   "cell_type": "code",
   "execution_count": null,
   "id": "8e3a675d",
   "metadata": {},
   "outputs": [],
   "source": [
    "PaddingLength = max(Sentence1.count(' '), Sentence2.count(' '))\n",
    "PaddingLength"
   ]
  },
  {
   "cell_type": "code",
   "execution_count": null,
   "id": "f30b927d",
   "metadata": {},
   "outputs": [],
   "source": [
    "def GetEmbeddings(sentence):\n",
    "    sentence_tokens = tokenizer.encode_plus(sentence, return_tensors='np', max_length=PaddingLength*PaddingLength, padding='max_length', truncation=True, return_attention_mask=False)\n",
    "    return sentence_tokens"
   ]
  },
  {
   "cell_type": "code",
   "execution_count": null,
   "id": "cbf74f2b",
   "metadata": {},
   "outputs": [],
   "source": [
    "Embeddings1 = GetEmbeddings(Sentence1)['input_ids'][0]\n",
    "Embeddings2 = GetEmbeddings(Sentence2)['input_ids'][0]\n",
    "\n",
    "print('Embeddings 1: ', Embeddings1)\n",
    "print('Embeddings 2: ', Embeddings2)"
   ]
  },
  {
   "cell_type": "code",
   "execution_count": null,
   "id": "cdc9de80",
   "metadata": {},
   "outputs": [],
   "source": [
    "L2NormOfVec1 = np.sqrt(np.sum(Embeddings1 ** 2))\n",
    "L2NormOfVec2 = np.sqrt(np.sum(Embeddings2 ** 2))"
   ]
  },
  {
   "cell_type": "code",
   "execution_count": null,
   "id": "9230b862",
   "metadata": {},
   "outputs": [],
   "source": [
    "Similarity = np.dot(np.transpose(Embeddings1/L2NormOfVec1),(Embeddings2/L2NormOfVec2))\n",
    "print('Similarity Among Sentences: ',Similarity)"
   ]
  }
 ],
 "metadata": {
  "kernelspec": {
   "display_name": "Python 3.10.4 64-bit",
   "language": "python",
   "name": "python3"
  },
  "language_info": {
   "codemirror_mode": {
    "name": "ipython",
    "version": 3
   },
   "file_extension": ".py",
   "mimetype": "text/x-python",
   "name": "python",
   "nbconvert_exporter": "python",
   "pygments_lexer": "ipython3",
   "version": "3.10.4"
  },
  "vscode": {
   "interpreter": {
    "hash": "e7370f93d1d0cde622a1f8e1c04877d8463912d04d973331ad4851f04de6915a"
   }
  }
 },
 "nbformat": 4,
 "nbformat_minor": 5
}
