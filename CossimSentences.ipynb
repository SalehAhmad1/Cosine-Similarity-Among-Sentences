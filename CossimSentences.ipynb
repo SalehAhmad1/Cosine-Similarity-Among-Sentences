{
 "cells": [
  {
   "cell_type": "code",
   "execution_count": 17,
   "id": "6f8e6454",
   "metadata": {},
   "outputs": [],
   "source": [
    "import numpy as np\n",
    "import transformers\n",
    "from transformers import AutoTokenizer, AutoModel\n",
    "import torch"
   ]
  },
  {
   "cell_type": "code",
   "execution_count": 18,
   "id": "864264bb",
   "metadata": {},
   "outputs": [],
   "source": [
    "tokenizer = AutoTokenizer.from_pretrained('sentence-transformers/all-MiniLM-L6-v2')"
   ]
  },
  {
   "cell_type": "code",
   "execution_count": 19,
   "id": "3d2802e7",
   "metadata": {},
   "outputs": [
    {
     "name": "stdout",
     "output_type": "stream",
     "text": [
      "Sentence 1:  that is a happy person\n",
      "Sentence 2:  that is a very happy person\n"
     ]
    }
   ],
   "source": [
    "Sentence1 = input(\"Enter the first sentence: \").lower()\n",
    "Sentence2 = input(\"Enter the second sentence: \").lower()\n",
    "\n",
    "print('Sentence 1: ', Sentence1)\n",
    "print('Sentence 2: ', Sentence2)"
   ]
  },
  {
   "cell_type": "code",
   "execution_count": 20,
   "id": "8e3a675d",
   "metadata": {},
   "outputs": [
    {
     "data": {
      "text/plain": [
       "5"
      ]
     },
     "execution_count": 20,
     "metadata": {},
     "output_type": "execute_result"
    }
   ],
   "source": [
    "PaddingLength = max(Sentence1.count(' '), Sentence2.count(' '))\n",
    "PaddingLength"
   ]
  },
  {
   "cell_type": "code",
   "execution_count": 21,
   "id": "f30b927d",
   "metadata": {},
   "outputs": [],
   "source": [
    "def GetEmbeddings(sentence):\n",
    "    sentence_tokens = tokenizer.encode_plus(sentence, return_tensors='np', max_length=PaddingLength*PaddingLength, padding='max_length', truncation=True, return_attention_mask=False)\n",
    "    return sentence_tokens"
   ]
  },
  {
   "cell_type": "code",
   "execution_count": 22,
   "id": "cbf74f2b",
   "metadata": {},
   "outputs": [
    {
     "name": "stdout",
     "output_type": "stream",
     "text": [
      "Embeddings 1:  [ 101 2008 2003 1037 3407 2711  102    0    0    0    0    0    0    0\n",
      "    0    0    0    0    0    0    0    0    0    0    0]\n",
      "Embeddings 2:  [ 101 2008 2003 1037 2200 3407 2711  102    0    0    0    0    0    0\n",
      "    0    0    0    0    0    0    0    0    0    0    0]\n"
     ]
    }
   ],
   "source": [
    "Embeddings1 = GetEmbeddings(Sentence1)['input_ids'][0]\n",
    "Embeddings2 = GetEmbeddings(Sentence2)['input_ids'][0]\n",
    "\n",
    "print('Embeddings 1: ', Embeddings1)\n",
    "print('Embeddings 2: ', Embeddings2)"
   ]
  },
  {
   "cell_type": "code",
   "execution_count": 23,
   "id": "cdc9de80",
   "metadata": {},
   "outputs": [],
   "source": [
    "L2NormOfVec1 = np.sqrt(np.sum(Embeddings1 ** 2))\n",
    "L2NormOfVec2 = np.sqrt(np.sum(Embeddings2 ** 2))"
   ]
  },
  {
   "cell_type": "code",
   "execution_count": 24,
   "id": "9230b862",
   "metadata": {},
   "outputs": [
    {
     "name": "stdout",
     "output_type": "stream",
     "text": [
      "Similarity Among Sentences:  0.8592039928377324\n"
     ]
    }
   ],
   "source": [
    "Similarity = np.dot(np.transpose(Embeddings1/L2NormOfVec1),(Embeddings2/L2NormOfVec2))\n",
    "print('Similarity Among Sentences: ',Similarity)"
   ]
  }
 ],
 "metadata": {
  "kernelspec": {
   "display_name": "Python 3.10.4 64-bit",
   "language": "python",
   "name": "python3"
  },
  "language_info": {
   "codemirror_mode": {
    "name": "ipython",
    "version": 3
   },
   "file_extension": ".py",
   "mimetype": "text/x-python",
   "name": "python",
   "nbconvert_exporter": "python",
   "pygments_lexer": "ipython3",
   "version": "3.10.4"
  },
  "vscode": {
   "interpreter": {
    "hash": "e7370f93d1d0cde622a1f8e1c04877d8463912d04d973331ad4851f04de6915a"
   }
  }
 },
 "nbformat": 4,
 "nbformat_minor": 5
}
